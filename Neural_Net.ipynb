{
 "cells": [
  {
   "cell_type": "code",
   "execution_count": 29,
   "id": "2a594ef3-6bc4-445b-8681-c0a835088637",
   "metadata": {},
   "outputs": [],
   "source": [
    "import numpy as np\n",
    "import matplotlib.pyplot as plt\n",
    "from keras.datasets import mnist\n",
    "from sympy import *\n",
    "from tqdm.notebook import tnrange"
   ]
  },
  {
   "cell_type": "code",
   "execution_count": 30,
   "id": "f8a3d3fe-c72b-4316-88a2-c3210d0461ed",
   "metadata": {},
   "outputs": [],
   "source": [
    "(x_train, y_train), (x_test, y_test) = mnist.load_data()"
   ]
  },
  {
   "cell_type": "code",
   "execution_count": 31,
   "id": "b5cd92df-33ef-4f05-9fc1-a6060724499e",
   "metadata": {},
   "outputs": [
    {
     "name": "stdout",
     "output_type": "stream",
     "text": [
      "(28, 28)\n"
     ]
    },
    {
     "data": {
      "text/plain": [
       "<matplotlib.image.AxesImage at 0x7f8f38d42190>"
      ]
     },
     "execution_count": 31,
     "metadata": {},
     "output_type": "execute_result"
    },
    {
     "data": {
      "image/png": "[encoded data removed]",
      "text/plain": [
       "<Figure size 432x288 with 1 Axes>"
      ]
     },
     "metadata": {
      "needs_background": "light"
     },
     "output_type": "display_data"
    }
   ],
   "source": [
    "print(x_train[0].shape)\n",
    "plt.imshow(x_train[0])"
   ]
  },
  {
   "cell_type": "code",
   "execution_count": 32,
   "id": "9f3d53cc-81ef-4a73-b57b-34218d244004",
   "metadata": {},
   "outputs": [],
   "source": [
    "x_train = (x_train.astype('float32') / 255.).reshape(len(x_train), len(x_train[0])*len(x_train[0][0]))\n",
    "x_test = (x_test.astype('float32') / 255.).reshape(len(x_test), len(x_test[0])*len(x_test[0][0]))"
   ]
  },
  {
   "cell_type": "markdown",
   "id": "27deb533-cef9-43a5-8a77-fbae95896be2",
   "metadata": {},
   "source": [
    "# Attempting to Build a NN with Sympy"
   ]
  },
  {
   "cell_type": "code",
   "execution_count": 55,
   "id": "f53be5e1-16e8-4ddf-b81e-8c1c6e635cb6",
   "metadata": {},
   "outputs": [],
   "source": [
    "############################ The Loss Function ############################\n",
    "\n",
    "''' Compute the Mean Squared Error Between the Input and Model Output '''\n",
    "def MSE_func():\n",
    "    y = Symbol('y')\n",
    "    y_hat = Symbol('\\hat{y}')\n",
    "    \n",
    "    func = (y - y_hat)**2\n",
    "    \n",
    "    return func\n",
    "    \n",
    "def eval_MSE(output, label, diff = False):\n",
    "    func = MSE_func()\n",
    "    \n",
    "    y = list(func.free_symbols)[0]\n",
    "    y_hat = list(func.free_symbols)[1]\n",
    "    \n",
    "    if diff == True:\n",
    "        func = func.diff(y)\n",
    "        \n",
    "    # display(func)\n",
    "    \n",
    "    f = lambdify((y, y_hat), func)\n",
    "\n",
    "    return f(output, label)\n",
    "\n",
    "######################### The Activation Function #########################\n",
    "\n",
    "def sigmoid_func():\n",
    "    x = Symbol('x')\n",
    "    \n",
    "    sigmoid = 1/(1+exp(-x))\n",
    "    return sigmoid\n",
    "\n",
    "def eval_sigmoid(_input_, diff = False):\n",
    "    func = sigmoid_func()\n",
    "    x = list(func.free_symbols)[0]\n",
    "    \n",
    "    if diff == True:\n",
    "        func = func.diff(x)\n",
    "    \n",
    "    # display(func)\n",
    "    \n",
    "    f = lambdify(x, func)\n",
    "    \n",
    "    return f(_input_)\n",
    "\n",
    "######################### The Activation Function #########################\n",
    "# example of a simple network\n",
    "\n",
    "def NN(weights, _input_, _label_):\n",
    "\n",
    "    result = eval_sigmoid(np.dot(weights,_input_), diff = False)\n",
    "\n",
    "    error = eval_MSE(result, _label_)\n",
    "    \n",
    "    return result, error\n",
    "\n",
    "######################### The Activation Function #########################\n",
    "\n",
    "\n",
    "def update_weights(weights, _input_, _output_, _label_, epsilon = 1):\n",
    "    \n",
    "    grad = eval_sigmoid(np.dot(weights,_input_), diff = True)\n",
    "    grad = grad*eval_MSE(_output_, _label_, diff = True)\n",
    "    grad = np.outer(grad,_input_)    \n",
    "\n",
    "    new_weights = -epsilon*grad\n",
    "    \n",
    "    return new_weights\n",
    "\n",
    "def One_Hot_Encode(labels):\n",
    "    encoded_labels = np.zeros((len(labels), 10))\n",
    "    for i in range(len(labels)):\n",
    "        encoded_labels[i][labels[i]] = 1.\n",
    "    return encoded_labels\n",
    "    "
   ]
  },
  {
   "cell_type": "code",
   "execution_count": null,
   "id": "64a5a4f1-7c98-40c2-a650-3e462153d281",
   "metadata": {},
   "outputs": [],
   "source": []
  },
  {
   "cell_type": "code",
   "execution_count": null,
   "id": "76552925-d310-461d-b4b9-477e9f924966",
   "metadata": {},
   "outputs": [],
   "source": []
  },
  {
   "cell_type": "markdown",
   "id": "39e4a8d0-252c-46a0-b2f0-8780d1f24b89",
   "metadata": {},
   "source": [
    "# Example Simple Network"
   ]
  },
  {
   "cell_type": "code",
   "execution_count": 13,
   "id": "a694d480-8be4-4d11-965a-e2c0035ce36b",
   "metadata": {},
   "outputs": [
    {
     "name": "stdout",
     "output_type": "stream",
     "text": [
      "[0.5 0.5 0.5]\n"
     ]
    }
   ],
   "source": [
    "num_inputs = 4\n",
    "num_outputs = 3\n",
    "\n",
    "_input_ = np.random.rand(num_inputs)\n",
    "weights = np.zeros((num_outputs,num_inputs))\n",
    "_label_ = np.ones((num_outputs))\n",
    "\n",
    "_input_ = np.ones((num_inputs))\n",
    "_label_ = np.zeros((num_outputs))\n",
    "\n",
    "output, error = NN(weights, _input_, _label_)\n",
    "print(output)"
   ]
  },
  {
   "cell_type": "code",
   "execution_count": 14,
   "id": "0233e656-3c97-44b7-adee-3b06c19f8587",
   "metadata": {},
   "outputs": [
    {
     "name": "stdout",
     "output_type": "stream",
     "text": [
      "[[0. 0. 0. 0.]\n",
      " [0. 0. 0. 0.]\n",
      " [0. 0. 0. 0.]]\n",
      "[[-0.0025 -0.0025 -0.0025 -0.0025]\n",
      " [-0.0025 -0.0025 -0.0025 -0.0025]\n",
      " [-0.0025 -0.0025 -0.0025 -0.0025]]\n"
     ]
    }
   ],
   "source": [
    "print(weights)\n",
    "print(update_weights(weights, _input_, output, _label_, epsilon))"
   ]
  },
  {
   "cell_type": "code",
   "execution_count": 20,
   "id": "f1c5f507-97d0-4317-86fc-abbf5b6de990",
   "metadata": {},
   "outputs": [],
   "source": [
    "inputs = x_train[0:3000]\n",
    "labels = y_train[0:3000]\n",
    "encoded_labels = One_Hot_Encode(labels)\n",
    "\n",
    "num_inputs = len(inputs[0])\n",
    "num_outputs = len(encoded_labels[0])\n",
    "\n",
    "batch_size = 10 # the number of images to look at before making a correction\n",
    "epsilon = 0.01\n",
    "\n",
    "weights = np.zeros((num_outputs, num_inputs))\n",
    "\n",
    "weights_list = []\n",
    "\n",
    "error_list = []\n",
    "\n",
    "for i in range(len(inputs)):\n",
    "    output, error = NN(weights, inputs[i], encoded_labels[i])\n",
    "        \n",
    "    # print(np.argmax(output), encoded_labels[i], sum(error))\n",
    "    weights_list.append(update_weights(weights, inputs[i], output, encoded_labels[i], epsilon))\n",
    "        \n",
    "    if (i + 1) % batch_size == 0:\n",
    "        weights += np.average(weights_list, axis = 0)\n",
    "        weights_list = []\n",
    "        error_list.append(sum(error))\n",
    "        \n",
    "weights_old = weights"
   ]
  },
  {
   "cell_type": "code",
   "execution_count": 21,
   "id": "1a9dfb18-eae1-4b83-97b3-9d1ccca764b1",
   "metadata": {},
   "outputs": [
    {
     "data": {
      "text/plain": [
       "[<matplotlib.lines.Line2D at 0x7f8f3a2fdcd0>]"
      ]
     },
     "execution_count": 21,
     "metadata": {},
     "output_type": "execute_result"
    },
    {
     "data": {
      "image/png": "[encoded data removed]",
      "text/plain": [
       "<Figure size 432x288 with 1 Axes>"
      ]
     },
     "metadata": {
      "needs_background": "light"
     },
     "output_type": "display_data"
    }
   ],
   "source": [
    "plt.plot(error_list)"
   ]
  },
  {
   "cell_type": "code",
   "execution_count": 22,
   "id": "106c4ea7-67b7-4352-bdc1-b4cd13a5dd47",
   "metadata": {},
   "outputs": [
    {
     "name": "stdout",
     "output_type": "stream",
     "text": [
      "0.595\n",
      "0.405\n"
     ]
    }
   ],
   "source": [
    "inputs = x_test[0:1000]\n",
    "labels = y_test[0:1000]\n",
    "encoded_labels = One_Hot_Encode(labels)\n",
    "\n",
    "num_inputs = len(inputs[0])\n",
    "num_outputs = len(encoded_labels[0])\n",
    "\n",
    "num_correct = 0\n",
    "num_wrong = 0\n",
    "\n",
    "for i in range(len(inputs)):\n",
    "    output, error = NN(weights, inputs[i], encoded_labels[i])\n",
    "              \n",
    "    if np.argmax(output) == labels[i]:\n",
    "        num_correct += 1\n",
    "        \n",
    "    else:\n",
    "        num_wrong += 1\n",
    "print(num_correct/1000)\n",
    "print(num_wrong/1000)"
   ]
  },
  {
   "cell_type": "code",
   "execution_count": null,
   "id": "9dc5f29d-6f72-49dc-b05f-2639f851f7fe",
   "metadata": {},
   "outputs": [],
   "source": []
  },
  {
   "cell_type": "markdown",
   "id": "d6c48ab0-e9c8-41c9-b6c4-6b6bf8cb5c4e",
   "metadata": {},
   "source": [
    "# It would be nice to add a second layer... (maybe 16 nodes?)"
   ]
  },
  {
   "cell_type": "code",
   "execution_count": null,
   "id": "c9eeca85-8b3f-46af-b43c-35fb72c3bf45",
   "metadata": {},
   "outputs": [],
   "source": []
  },
  {
   "cell_type": "code",
   "execution_count": null,
   "id": "85b6e1df-7dba-4512-9599-e87ab05227d4",
   "metadata": {},
   "outputs": [],
   "source": []
  },
  {
   "cell_type": "code",
   "execution_count": 26,
   "id": "c56ff0c9-b7b2-4e08-8ae9-2b32a3660a32",
   "metadata": {},
   "outputs": [],
   "source": [
    "def NN(weights, _input_, _label_):\n",
    "\n",
    "    result = _input_\n",
    "    layer_outputs = [_input_]\n",
    "    \n",
    "    for i in weights:\n",
    "        result = eval_sigmoid(np.dot(i,result), diff = False)\n",
    "        layer_outputs.append(result)\n",
    "\n",
    "    error = eval_MSE(result, _label_)\n",
    "    \n",
    "    return layer_outputs, error\n",
    "\n",
    "\n",
    "\n",
    "\n",
    "\n",
    "def initialize_weights(node_sequence):\n",
    "    layers = np.flip(node_sequence.repeat(2)[1:-1].reshape(len(node_sequence)-1,2), axis = 1)\n",
    "    \n",
    "    weights = []\n",
    "    weights_list = {}\n",
    "    for i in range(len(layers)):\n",
    "        weights.append(np.zeros(layers[i]))\n",
    "        weights_list[i] = np.array([weights[i]]) # just a temporary zero array\n",
    "        \n",
    "    return weights, weights_list\n",
    "\n",
    "\n",
    "# must be able to handle several errors!\n",
    "def update_weights(weights, layer_outputs, _label_, epsilon = 1):\n",
    "    \n",
    "    # print(layer_outputs)\n",
    "    new_weights = weights.copy()\n",
    "    \n",
    "    MSE = eval_MSE(layer_outputs[-1], _label_, diff = True) # first calc derivitive of MSE\n",
    "    # print('MSE:', MSE)\n",
    "    \n",
    "    for i in range(len(weights), 0, -1): # work backwards\n",
    "                \n",
    "        grad = eval_sigmoid(np.dot(weights[i-1],layer_outputs[i-1]), diff = True) # derivitive of sigmoid\n",
    "        # print('current weight:', weights[i-1])\n",
    "        # print('grad:', grad)\n",
    "        \n",
    "        \n",
    "        \n",
    "        for j in range(len(weights), i, -1): # this is for chain rule (skips last layer since no chain rule there)\n",
    "            if j == len(weights):\n",
    "                new_grad = np.dot(eval_sigmoid(np.dot(weights[j-1],layer_outputs[j-1]), diff = True) * MSE, weights[j-1])\n",
    "                \n",
    "            else:\n",
    "                new_grad = np.dot(eval_sigmoid(np.dot(weights[j-1],layer_outputs[j-1]), diff = True), weights[j-1])\n",
    "                \n",
    "            # print('new grad:', new_grad)\n",
    "            \n",
    "            \n",
    "            grad *= new_grad\n",
    "            \n",
    "            \n",
    "        if len(weights) == 1:\n",
    "            grad = grad*MSE\n",
    "            \n",
    "        grad = np.outer(grad,layer_outputs[i-1]) \n",
    "        \n",
    "        new_weights[i-1] = epsilon*grad\n",
    "        \n",
    "    return new_weights, weights"
   ]
  },
  {
   "cell_type": "code",
   "execution_count": 27,
   "id": "2cb75526-99d2-4d22-82c6-e822a2b1a48b",
   "metadata": {},
   "outputs": [
    {
     "name": "stdout",
     "output_type": "stream",
     "text": [
      "[0.25 0.25 0.25]\n"
     ]
    }
   ],
   "source": [
    "num_inputs = 4\n",
    "num_outputs = 3\n",
    "node_sequence = np.array([num_inputs, 5, num_outputs])\n",
    "\n",
    "_input_ = np.ones((num_inputs))\n",
    "_label_ = np.zeros((num_outputs))\n",
    "\n",
    "weights, weights_list = initialize_weights(node_sequence)\n",
    "\n",
    "\n",
    "layer_outputs, error = NN(weights, _input_, _label_)\n",
    "print(error)"
   ]
  },
  {
   "cell_type": "code",
   "execution_count": null,
   "id": "da7541c5-2c1c-4fa3-935c-2f4e3051c2c6",
   "metadata": {},
   "outputs": [],
   "source": []
  },
  {
   "cell_type": "code",
   "execution_count": 28,
   "id": "39e93632-0459-4f3d-9834-a28dc1ea4917",
   "metadata": {},
   "outputs": [
    {
     "name": "stdout",
     "output_type": "stream",
     "text": [
      "[array([[0., 0., 0., 0.],\n",
      "       [0., 0., 0., 0.],\n",
      "       [0., 0., 0., 0.],\n",
      "       [0., 0., 0., 0.],\n",
      "       [0., 0., 0., 0.]]), array([[0., 0., 0., 0., 0.],\n",
      "       [0., 0., 0., 0., 0.],\n",
      "       [0., 0., 0., 0., 0.]])]\n",
      "[array([[0., 0., 0., 0.],\n",
      "       [0., 0., 0., 0.],\n",
      "       [0., 0., 0., 0.],\n",
      "       [0., 0., 0., 0.],\n",
      "       [0., 0., 0., 0.]]), array([[0.00125, 0.00125, 0.00125, 0.00125, 0.00125],\n",
      "       [0.00125, 0.00125, 0.00125, 0.00125, 0.00125],\n",
      "       [0.00125, 0.00125, 0.00125, 0.00125, 0.00125]])]\n"
     ]
    }
   ],
   "source": [
    "epsilon = 0.01\n",
    "new_weights, weights = update_weights(weights, layer_outputs, _label_, epsilon)\n",
    "print(weights)\n",
    "print(new_weights)"
   ]
  },
  {
   "cell_type": "code",
   "execution_count": 10,
   "id": "cfd8c14d-bec1-4d14-a949-a4d97695a9ef",
   "metadata": {},
   "outputs": [],
   "source": [
    "inputs = x_train[0:1000]\n",
    "labels = y_train[0:1000]\n",
    "encoded_labels = One_Hot_Encode(labels)\n",
    "\n",
    "\n",
    "num_inputs = len(inputs[0])\n",
    "num_outputs = len(encoded_labels[0])\n",
    "\n",
    "\n",
    "node_sequence = np.array([num_inputs, num_outputs])\n",
    "\n",
    "weights, weights_list = initialize_weights(node_sequence)\n",
    "\n",
    "batch_size = 10 # the number of images to look at before making a correction\n",
    "epsilon = 0.01\n",
    "\n",
    "error_list = []\n",
    "\n",
    "for i in range(len(inputs)):\n",
    "            \n",
    "    layer_outputs, error = NN(weights, inputs[i], encoded_labels[i])\n",
    "\n",
    "    \n",
    "    new_weights, weights = update_weights(weights, layer_outputs, encoded_labels[i], epsilon)\n",
    "    \n",
    "    for j in range(len(weights)):\n",
    "        weights_list[j] = np.concatenate((weights_list[j], [new_weights[j]])) \n",
    "       \n",
    "    \n",
    "    if len(weights_list[0]) % batch_size == 0:\n",
    "        for j in range(len(weights)):\n",
    "\n",
    "            weights[j] -= np.average(weights_list[j], axis = 0)\n",
    "            weights_list[j] = [np.copy(weights[j])]\n",
    "            \n",
    "        error_list.append(sum(error))\n",
    "            \n",
    "weights_new = weights"
   ]
  },
  {
   "cell_type": "code",
   "execution_count": 11,
   "id": "c6aaa4d7-d7b0-4984-b77b-1e697f1f5b2a",
   "metadata": {},
   "outputs": [
    {
     "data": {
      "text/plain": [
       "[<matplotlib.lines.Line2D at 0x7f8f3947a370>]"
      ]
     },
     "execution_count": 11,
     "metadata": {},
     "output_type": "execute_result"
    },
    {
     "data": {
      "image/png": "[encoded data removed]",
      "text/plain": [
       "<Figure size 432x288 with 1 Axes>"
      ]
     },
     "metadata": {
      "needs_background": "light"
     },
     "output_type": "display_data"
    }
   ],
   "source": [
    "plt.plot(error_list[:])"
   ]
  },
  {
   "cell_type": "code",
   "execution_count": 1003,
   "id": "36268349-06e9-4cf5-a204-2e9e64ddb117",
   "metadata": {},
   "outputs": [
    {
     "name": "stdout",
     "output_type": "stream",
     "text": [
      "0.277\n",
      "0.723\n"
     ]
    }
   ],
   "source": [
    "inputs = x_test[0:1000]\n",
    "labels = y_test[0:1000]\n",
    "encoded_labels = One_Hot_Encode(labels)\n",
    "\n",
    "num_inputs = len(inputs[0])\n",
    "num_outputs = len(encoded_labels[0])\n",
    "\n",
    "\n",
    "num_correct = 0\n",
    "num_wrong = 0\n",
    "\n",
    "for i in range(len(inputs)):\n",
    "    layer_outputs, error = NN(weights, inputs[i], encoded_labels[i])\n",
    "    \n",
    "    if np.argmax(layer_outputs[-1]) == labels[i]:\n",
    "        num_correct += 1\n",
    "\n",
    "    else:\n",
    "        num_wrong += 1\n",
    "    \n",
    "print(num_correct/1000)\n",
    "print(num_wrong/1000)"
   ]
  },
  {
   "cell_type": "code",
   "execution_count": null,
   "id": "7ecf4ed2-71fa-46f3-9f6c-195898fa90fc",
   "metadata": {},
   "outputs": [],
   "source": []
  },
  {
   "cell_type": "code",
   "execution_count": null,
   "id": "dbf5eb26-e1fb-40bb-8379-6feeb12a9ed9",
   "metadata": {},
   "outputs": [],
   "source": []
  },
  {
   "cell_type": "code",
   "execution_count": null,
   "id": "a55ad7be-0237-46e0-9a30-006e935024c9",
   "metadata": {},
   "outputs": [],
   "source": []
  },
  {
   "cell_type": "code",
   "execution_count": 664,
   "id": "98a5e373-96c6-4b66-b160-e2683af88548",
   "metadata": {},
   "outputs": [
    {
     "data": {
      "text/plain": [
       "array([[1., 2., 3., 4.],\n",
       "       [5., 6., 7., 8.]])"
      ]
     },
     "execution_count": 664,
     "metadata": {},
     "output_type": "execute_result"
    }
   ],
   "source": [
    "a = [[[1,2,3,4], [5,6,7,8]], [[1,2,3,4], [5,6,7,8]]]\n",
    "np.average(a, axis = 0)"
   ]
  },
  {
   "cell_type": "code",
   "execution_count": null,
   "id": "8c7f24e4-da8f-475f-8eed-9ac3e4837cb8",
   "metadata": {},
   "outputs": [],
   "source": []
  },
  {
   "cell_type": "code",
   "execution_count": null,
   "id": "cd067656-42a1-498c-a75d-7ef590240040",
   "metadata": {},
   "outputs": [],
   "source": []
  },
  {
   "cell_type": "code",
   "execution_count": 973,
   "id": "18aa3cd5-846b-445c-a96b-12b30fffa8c2",
   "metadata": {},
   "outputs": [
    {
     "data": {
      "text/plain": [
       "array([[ 6,  8],\n",
       "       [10, 12]])"
      ]
     },
     "execution_count": 973,
     "metadata": {},
     "output_type": "execute_result"
    }
   ],
   "source": [
    "a = np.array([[1, 2], [3, 4]])\n",
    "b = np.array([[5, 6], [7, 8]])\n",
    "a + b"
   ]
  },
  {
   "cell_type": "code",
   "execution_count": 928,
   "id": "13ceeb89-2319-4ca9-8438-2bc5c374e366",
   "metadata": {},
   "outputs": [
    {
     "name": "stdout",
     "output_type": "stream",
     "text": [
      "1\n"
     ]
    }
   ],
   "source": [
    "for h in range(1,0,-1):\n",
    "    print(h)"
   ]
  },
  {
   "cell_type": "code",
   "execution_count": null,
   "id": "46af53cf-1a9f-4a00-be59-0db09c879853",
   "metadata": {},
   "outputs": [],
   "source": []
  },
  {
   "cell_type": "code",
   "execution_count": null,
   "id": "8920ed07-687c-4a23-8082-20f864f1416d",
   "metadata": {},
   "outputs": [],
   "source": []
  }
 ],
 "metadata": {
  "kernelspec": {
   "display_name": "Python 3",
   "language": "python",
   "name": "python3"
  },
  "language_info": {
   "codemirror_mode": {
    "name": "ipython",
    "version": 3
   },
   "file_extension": ".py",
   "mimetype": "text/x-python",
   "name": "python",
   "nbconvert_exporter": "python",
   "pygments_lexer": "ipython3",
   "version": "3.8.5"
  }
 },
 "nbformat": 4,
 "nbformat_minor": 5
}
