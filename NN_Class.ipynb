{
 "cells": [
  {
   "cell_type": "code",
   "execution_count": 26,
   "id": "89c1e3e0-2440-4fd0-be13-758a4b65d509",
   "metadata": {},
   "outputs": [
    {
     "data": {
      "text/plain": [
       "' Code written by William Bidle and Ilana Zane '"
      ]
     },
     "execution_count": 26,
     "metadata": {},
     "output_type": "execute_result"
    }
   ],
   "source": [
    "''' Code written by William Bidle and Ilana Zane '''"
   ]
  },
  {
   "cell_type": "code",
   "execution_count": 27,
   "id": "f20391ec-6f05-4160-a3bb-92cc5baf0cc4",
   "metadata": {},
   "outputs": [],
   "source": [
    "##########################################################################################\n",
    "######################################## Imports #########################################\n",
    "##########################################################################################\n",
    "\n",
    "''' For Array Manipulation '''\n",
    "import numpy as np\n",
    "\n",
    "''' For Visualization '''\n",
    "import matplotlib.pyplot as plt \n",
    "\n",
    "''' For Mathematical Expressions '''\n",
    "from sympy import * \n",
    "\n",
    "''' For Runtime/Progress Checking '''\n",
    "from tqdm import tqdm\n",
    "\n",
    "''' For Dataset Usage '''\n",
    "from keras.datasets import mnist\n",
    "\n",
    "''' For File Reading/Writing '''\n",
    "import os\n",
    "import json\n",
    "\n",
    "##########################################################################################\n",
    "##########################################################################################\n",
    "##########################################################################################"
   ]
  },
  {
   "cell_type": "code",
   "execution_count": 29,
   "id": "5c1cb696-279e-42e0-bff7-797f8c10f52d",
   "metadata": {},
   "outputs": [],
   "source": [
    "class NN:\n",
    "    def __init__(self):\n",
    "        activation_funcs_library = self.load_func_libraries('activation_funcs_library.txt')\n",
    "        self.activation_funcs_library = activation_funcs_library\n",
    "        \n",
    "        # loss_func_library = self.load_func_libraries('loss_funcs_library.txt')\n",
    "        # self.loss_func_library = loss_func_library\n",
    "        \n",
    "        self.weights = None\n",
    "        self.activation_function = None\n",
    "\n",
    "    ##########################################################################################\n",
    "    \n",
    "    def load_func_libraries(self, func_file):\n",
    "    \n",
    "        ''' \n",
    "        ##################################################################\n",
    "                Load in the list of defined activation functions\n",
    "        ##################################################################\n",
    "\n",
    "        INPUTS:\n",
    "        - func_file (string) : the filename containing the library of usable functions\n",
    "\n",
    "        OUTPUTS:\n",
    "        - func_library (dict) : a dictionary of the usable functions\n",
    "\n",
    "        ##################### Example ######################\n",
    "\n",
    "        func_file = 'func_library_modified.txt'\n",
    "        load_func_library(func_file)\n",
    "\n",
    "        '''\n",
    "\n",
    "        with open(func_file) as f:\n",
    "            data = f.read()\n",
    "      \n",
    "       \n",
    "        func_library = json.loads(data) # reconstructing the data as a dictionary\n",
    "        \n",
    "        return func_library\n",
    "        \n",
    "    ##########################################################################################\n",
    "\n",
    "    def init_func(self, func):\n",
    "\n",
    "        ''' \n",
    "        ##################################################################\n",
    "                        Initialize an activation function\n",
    "        ##################################################################\n",
    "\n",
    "        INPUTS:\n",
    "        - func (string) : the mathematical expression corresponding to 'func_name' (e.g., '1/(1+exp(-x))')\n",
    "\n",
    "        OUTPUTS:\n",
    "        - expression (sympy.core.symbol.Symbol) : symbolic mathematical representation of 'func'\n",
    "\n",
    "        ##################### Example ######################\n",
    "\n",
    "        func_file = 'func_library_modified.txt'\n",
    "        func_library = load_func_library(func_file)\n",
    "        func = init_func(func_library, 'sigmoid')\n",
    "        display(func)\n",
    "\n",
    "        '''\n",
    "\n",
    "        try:\n",
    "            expression = self.activation_funcs_library[func]\n",
    "            expression = parse_expr(expression)\n",
    "            return expression\n",
    "        except:\n",
    "            raise Exception(\"Desired function '%s' does not exist within the 'func_library.'\" % func)\n",
    "\n",
    "    ##########################################################################################\n",
    "\n",
    "    def eval_func(self, expression, _input_, diff = False):\n",
    "\n",
    "        ''' \n",
    "        ##################################################################\n",
    "                        Initialize an activation function\n",
    "        ##################################################################\n",
    "\n",
    "        INPUTS:\n",
    "        - expression (sympy.core.symbol.Symbol) : symbolic mathematical representation of 'func'\n",
    "        - _input_ (NumPy 1D array) : the values to evaluate 'expression' with\n",
    "        - diff (Boolean) : whether or not to evaluate the derivitive of 'expression' at '_input_'\n",
    "\n",
    "        OUTPUTS:\n",
    "        - result (NumPy 1D) : evaluation of 'expression' at '_input_'\n",
    "\n",
    "        ##################### Example ######################\n",
    "\n",
    "        func_file = 'func_library_modified.txt'\n",
    "        func_library = load_func_library(func_file)\n",
    "        func = init_func(func_library, 'sigmoid')\n",
    "        display(func)\n",
    "\n",
    "        _input_ = np.linspace(-10, 10, 100)\n",
    "        result = eval_func(func, _input_, diff = False)\n",
    "\n",
    "        # visualization\n",
    "        plt.plot(_input_, result)\n",
    "        plt.show()\n",
    "\n",
    "        '''\n",
    "        \n",
    "        x = Symbol('x') # the variable of interest\n",
    "\n",
    "        if diff == True: # differentiate only if the 'diff' flag is True\n",
    "            expression = expression.diff(x)\n",
    "\n",
    "        func = lambdify(x, expression) # allow the function to be evaluated from lists\n",
    "        result = func(_input_) # evaluate the function at the given input\n",
    "\n",
    "        return result\n",
    "    \n",
    "    \n",
    "    ##########################################################################################\n",
    "\n",
    "    ''' I WOULD LIKE TO AUTOMATE THIS TOO!!!! '''\n",
    "    def MSE_func(self):\n",
    "        y = Symbol('y')\n",
    "        y_hat = Symbol('\\hat{y}')\n",
    "\n",
    "        func = (y - y_hat)**2 # Needs to be summed\n",
    "\n",
    "        return func\n",
    "\n",
    "    def eval_MSE(self, output, label, diff = False):\n",
    "        func = self.MSE_func()\n",
    "\n",
    "        y = list(func.free_symbols)[0]\n",
    "        y_hat = list(func.free_symbols)[1]\n",
    "\n",
    "        if diff == True:\n",
    "            func = func.diff(y)\n",
    "            f = lambdify((y, y_hat), func)\n",
    "            return f(output, label)\n",
    "\n",
    "        # display(func)\n",
    "\n",
    "        f = lambdify((y, y_hat), func)\n",
    "\n",
    "        return sum(f(output, label))\n",
    "    \n",
    "    ##########################################################################################\n",
    "    \n",
    "    def initialize_weights(self,layer_sequence):\n",
    "        layers = np.flip(layer_sequence.repeat(2)[1:-1].reshape(len(layer_sequence)-1,2), axis = 1)\n",
    "\n",
    "        weights = [] # the list of the weights between different layers\n",
    "        weights_list = {} # create a dictionary to keep track of the weight updates (batch size)\n",
    "        for i in range(len(layers)):\n",
    "            weights.append(np.random.randn(layers[i][0], layers[i][1])*np.sqrt(2/layers[i][1])) # HE initialization for weights\n",
    "            weights_list[i] = [] # just a temporary blank array since training hasn't begun yet\n",
    "\n",
    "        return weights, weights_list\n",
    "        \n",
    "    ##########################################################################################\n",
    "\n",
    "    def update_weights(self, weights, layer_outputs, _label_):\n",
    "    \n",
    "        activation = self.activation_function\n",
    "\n",
    "        ''' Debug '''\n",
    "        # print('layer_outputs:', layer_outputs)\n",
    "        # print('weights:', weights)\n",
    "        # print()\n",
    "\n",
    "        weight_updates = weights.copy()\n",
    "\n",
    "        # blue = self.eval_MSE(layer_outputs[-1], _label_, diff = True) # blue in notes\n",
    "        blue = np.diag(self.eval_MSE(layer_outputs[-1], _label_, diff = True)) # blue in notes\n",
    "        \n",
    "        ''' Debug '''\n",
    "        # print('blue:', blue)\n",
    "        # print()\n",
    "\n",
    "        red = self.eval_func(activation, np.dot(weights[-1],layer_outputs[-2]), diff = True) # red in notes\n",
    "        ''' Debug '''\n",
    "        # print('red:', red)\n",
    "        # print()\n",
    "\n",
    "        for i in range(len(weights), 0, -1): # index through each weight (work backwards)\n",
    "            ''' Debug '''\n",
    "            # print('index i:', i - 1)\n",
    "\n",
    "            pink = layer_outputs[i-1] # pink in notes \n",
    "            ''' Debug '''\n",
    "            # print('pink:', pink)\n",
    "            # print()\n",
    "\n",
    "            grad = np.matmul(blue, np.outer(red, pink)) # first two terms in gradient\n",
    "            ''' Debug '''\n",
    "            # print('grad:', grad)\n",
    "            # print()\n",
    "\n",
    "            for j in range(len(weights), i, -1): # look forwards through each weight (only if there are forward weights)\n",
    "                ''' Debug '''\n",
    "                # print('index j:', j - 1)\n",
    "\n",
    "                orange = np.transpose(weights[j-1]) # orange in notes\n",
    "                ''' Debug '''\n",
    "                # print('orange:', orange)\n",
    "                # print()\n",
    "\n",
    "                green = np.diag(self.eval_func(activation, np.dot(weights[j-2],layer_outputs[j-2]), diff = True)) # green in notes\n",
    "                ''' Debug '''\n",
    "                # print('green:', green)\n",
    "                # print()\n",
    "\n",
    "                grad = np.matmul(green,np.matmul(orange,grad)) # now multiply the rest to grad\n",
    "                ''' Debug '''\n",
    "                # print('grad:', grad)\n",
    "                # print()\n",
    "\n",
    "            weight_updates[i-1] = grad\n",
    "\n",
    "        return weight_updates, weights\n",
    "    \n",
    "    ##########################################################################################\n",
    "    \n",
    "    def get_network_outputs(self, weights, _input_, _label_):\n",
    "        \n",
    "        activation = self.activation_function\n",
    "        \n",
    "        current_layer = _input_\n",
    "        network_outputs = [current_layer] # add the first layer to the list\n",
    "\n",
    "        for i in weights:\n",
    "\n",
    "            current_layer = self.eval_func(activation, np.dot(i,current_layer), diff = False)\n",
    "            network_outputs.append(current_layer)\n",
    "\n",
    "        error = self.eval_MSE(current_layer, _label_)\n",
    "\n",
    "        return network_outputs, error\n",
    "\n",
    "    ##########################################################################################\n",
    "    \n",
    "    \n",
    "    def train(self, x_train, y_train, layer_sequence, activation_function, batch_size, epsilon = 1):\n",
    "    \n",
    "        self.activation_function = self.init_func(activation_function)\n",
    "        \n",
    "        weights, weights_list = self.initialize_weights(layer_sequence)\n",
    "\n",
    "        error_list = []\n",
    "\n",
    "        counter = 0 # keep track of the current iteration\n",
    "\n",
    "        # the training\n",
    "        for _input_, _label_ in tqdm(zip(x_train, y_train), total = len(x_train), desc = 'training'): # iterate through the inputs and labels\n",
    "\n",
    "            network_output, error = self.get_network_outputs(weights, _input_, _label_) # the current network output\n",
    "\n",
    "            weight_updates, weights = self.update_weights(weights, network_output, _label_)\n",
    "\n",
    "            for j in range(len(weights)):\n",
    "                weights_list[j].append(weight_updates[j])\n",
    "        \n",
    "            counter += 1\n",
    "\n",
    "            if (counter) % batch_size == 0: \n",
    "                for j in range(len(weights)):\n",
    "\n",
    "                    weights[j] -= epsilon*np.average(np.array(weights_list[j]), axis = 0)\n",
    "                    weights_list[j] = []\n",
    "\n",
    "                error_list.append(error)\n",
    "                \n",
    "        self.weights = weights\n",
    "\n",
    "        return error_list\n",
    "    \n",
    "    ##########################################################################################\n",
    "    \n",
    "    def evaluate(self, x_test, y_test):\n",
    "\n",
    "        num_correct, num_wrong = 0, 0\n",
    "\n",
    "        for _input_, _label_ in tqdm(zip(x_test, y_test), desc = 'Evaluating Test Data', total = len(x_test)):\n",
    "            network_output, error = self.get_network_outputs(self.weights, _input_, _label_) # the current network output\n",
    "\n",
    "            ''' Debug '''\n",
    "\n",
    "            if np.argmax(network_output[-1]) == np.argmax(_label_):\n",
    "                num_correct += 1\n",
    "\n",
    "            else:\n",
    "                num_wrong += 1\n",
    "\n",
    "        print(\"% Correct:\", 100*num_correct/num_evals)\n",
    "        print(\"% Wrong:\", 100*num_wrong/num_evals)\n",
    "        \n",
    "    ##########################################################################################\n",
    "    \n",
    "\n",
    "##########################################################################################\n",
    "####################################### Functions ########################################\n",
    "##########################################################################################\n",
    "\n",
    "def unison_shuffled_copies(a, b):\n",
    "    assert len(a) == len(b)\n",
    "    p = np.random.permutation(len(a))\n",
    "    return a[p], b[p]\n",
    "\n",
    "def One_Hot_Encode(labels):\n",
    "    encoded_labels = np.zeros((len(labels), np.max(labels) + 1))\n",
    "    for i in range(len(labels)):\n",
    "        encoded_labels[i][labels[i]] = 1.\n",
    "    return encoded_labels\n",
    "\n",
    "def add_activation_func(func_name, func):\n",
    "    \n",
    "    ''' \n",
    "    ##################################################################\n",
    "        Add a valid expression to the list of activation functions\n",
    "    ##################################################################\n",
    "    \n",
    "    INPUTS:\n",
    "    - func_name (string) : the name of the activation function to add (e.g., 'sigmoid')\n",
    "    - func (string) : the mathematical expression corresponding to 'func_name' (e.g., '1/(1+exp(-x))')\n",
    "    \n",
    "    OUTPUTS:\n",
    "    - None (writes updated function library to the file 'func_library_modified')\n",
    "    \n",
    "    ##################### Example ######################\n",
    "    \n",
    "    func_name = 'tan'\n",
    "    func = 'tan(x)'\n",
    "    \n",
    "    add_activation_func(func_name, func)\n",
    "    \n",
    "    '''\n",
    "    \n",
    "    try: # first check if the given function is valid\n",
    "        expression = parse_expr(func)\n",
    "\n",
    "    except: # if not, raise an error\n",
    "        raise Exception('Input function \"%s\" is not a valid function!' % func)\n",
    "    \n",
    "    if str(type(eval_func(expression, 1., diff = False))) == \"<class 'sympy.core.symbol.Symbol'>\": # check if the expression is evaluated properly\n",
    "        raise Exception('\"%s\" is not a valid function! Please consult the \"Func_Rules.md\" file on how to properly define mathematical expressions.' % func)\n",
    "    else:\n",
    "        pass\n",
    "    \n",
    "\n",
    "    func_library = load_func_library('func_library_modified.txt') # load the function library file\n",
    "    print('Current Function Library:', func_library)\n",
    "\n",
    "    if func_name in func_library: # Check if the desired function name is already in use\n",
    "        raise Exception('Function name \"%s\" already is defined within the function library! Either pick a new name or remove the already existing function with : remove_activation_function(\\'%s\\')' % (func_name, func_name))\n",
    "    \n",
    "    elif func in list(func_library.values()): # Check if the desired function is already defined under a different name\n",
    "        index = list(func_library.values()).index(func)\n",
    "        name = list(func_library.keys())[index]\n",
    "        \n",
    "        raise Exception('Function \"%s\" is already defined within the function library as \"%s\"! Remove the already existing function with : remove_activation_function(\\'%s\\')' % (func, name, name))\n",
    "    \n",
    "    else: # if all of the above checks pass, add the new function into the function list\n",
    "        func_library[func_name] = func # add new function\n",
    "        print('New Function Library:', func_library)\n",
    "\n",
    "        with open('func_library_modified.txt', 'w') as f: # write the updated dictionary back to the function library file\n",
    "            f.write(json.dumps(func_library))\n",
    "\n",
    "    return\n",
    "\n",
    "##########################################################################################\n",
    "\n",
    "def remove_activation_func(func_name):\n",
    "    \n",
    "    ''' \n",
    "    ##################################################################\n",
    "        Add a valid expression to the list of activation functions\n",
    "    ##################################################################\n",
    "    \n",
    "    INPUTS:\n",
    "    - func_name (string) : the name of the activation function to remove (e.g., 'sigmoid')\n",
    "    \n",
    "    OUTPUTS:\n",
    "    - None (writes updated function library to the file 'func_library_modified')\n",
    "    \n",
    "    ##################### Example ######################\n",
    "    \n",
    "    func_name = 'sigmoid'\n",
    "    \n",
    "    remove_activation_func(func_name)\n",
    "    \n",
    "    '''\n",
    "    \n",
    "    func_library = load_func_library('func_library_modified.txt') # load the function library file\n",
    "    print('Current Function Library:', func_library)\n",
    "    \n",
    "    if func_name in func_library: # check if the function name to be deleted actually exists within the function library\n",
    "        del func_library[func_name] # delete the dictionary entry tht contains the function name\n",
    "    \n",
    "        print('New Function Library:', func_library)\n",
    "\n",
    "        with open('func_library_modified.txt', 'w') as f: # write the updated dictionary back to the function library file\n",
    "            f.write(json.dumps(func_library))\n",
    "            \n",
    "    else: # if the function name does not already exist within the function library, raise an error\n",
    "        raise Exception('Function \"%s\" does not exist within the function library!' % func_name)\n",
    "    \n",
    "    return\n",
    "\n",
    "##########################################################################################\n",
    "##########################################################################################\n",
    "##########################################################################################"
   ]
  },
  {
   "cell_type": "markdown",
   "id": "55788985-57d6-4504-9ffd-1f23f78347c6",
   "metadata": {},
   "source": [
    "# Example with MNIST Data for all 10 Labels"
   ]
  },
  {
   "cell_type": "code",
   "execution_count": 30,
   "id": "87c0af97-696a-485b-a11e-e87d42d71eae",
   "metadata": {},
   "outputs": [
    {
     "name": "stdout",
     "output_type": "stream",
     "text": [
      "Avaliable Function Library: {'sigmoid': '1/(1+exp(-x))', 'tanh': 'tanh(x)', 'ReLU': 'Piecewise((0,x<0),(x, x>=0))'}\n",
      "Current Weights: None\n",
      "\n"
     ]
    },
    {
     "name": "stderr",
     "output_type": "stream",
     "text": [
      "training: 100%|██████████| 1000/1000 [00:28<00:00, 34.62it/s]\n",
      "Evaluating Test Data: 100%|██████████| 1000/1000 [00:05<00:00, 189.09it/s]\n"
     ]
    },
    {
     "name": "stdout",
     "output_type": "stream",
     "text": [
      "% Correct: 8.7\n",
      "% Wrong: 91.3\n"
     ]
    },
    {
     "data": {
      "image/png": "[encoded data removed]",
      "text/plain": [
       "<Figure size 432x288 with 1 Axes>"
      ]
     },
     "metadata": {
      "needs_background": "light"
     },
     "output_type": "display_data"
    }
   ],
   "source": [
    "nn = NN()\n",
    "print('Avaliable Function Library:', nn.activation_funcs_library)\n",
    "\n",
    "print('Current Weights:', nn.weights)\n",
    "print()\n",
    "\n",
    "################################# Params #################################\n",
    "(x_train, y_train), (x_test, y_test) = mnist.load_data()\n",
    "\n",
    "x_train = (x_train.astype('float32') / 255.).reshape(len(x_train), len(x_train[0])*len(x_train[0][0]))\n",
    "x_test = (x_test.astype('float32') / 255.).reshape(len(x_test), len(x_test[0])*len(x_test[0][0]))\n",
    "\n",
    "x_train = x_train[0:1000]\n",
    "y_train = One_Hot_Encode(y_train[0:1000])\n",
    "\n",
    "input_shape = x_train[0].size\n",
    "output_shape = y_train[0].size\n",
    "\n",
    "layer_sequence = np.array([input_shape, 392, 196, 98, 49, output_shape])\n",
    "\n",
    "\n",
    "################################# Run it ##################################\n",
    "\n",
    "error_list = nn.train(x_train, y_train, layer_sequence, activation_function = 'sigmoid', batch_size = 5, epsilon = 0.01)\n",
    "\n",
    "# print('Current Weights =', nn.weights)\n",
    "\n",
    "plt.plot(error_list) # to visualize error over time\n",
    "\n",
    "################################# Testing ##################################\n",
    "\n",
    "num_evals = 1000\n",
    "\n",
    "inputs = x_test[0:num_evals]\n",
    "labels = One_Hot_Encode(y_test[0:num_evals])\n",
    "\n",
    "nn.evaluate(inputs, labels)"
   ]
  },
  {
   "cell_type": "code",
   "execution_count": null,
   "id": "2d38eb36-c7cb-4b59-8d62-523811be0952",
   "metadata": {},
   "outputs": [],
   "source": []
  },
  {
   "cell_type": "markdown",
   "id": "58d9477a-ed8f-4f21-ab5c-f209360e464c",
   "metadata": {},
   "source": [
    "# Try on MNIST with Only 2 labels (0 and 1)"
   ]
  },
  {
   "cell_type": "code",
   "execution_count": 31,
   "id": "e755e439-5e32-4393-b5ca-0b74be6b7e61",
   "metadata": {},
   "outputs": [
    {
     "name": "stdout",
     "output_type": "stream",
     "text": [
      "Avaliable Function Library: {'sigmoid': '1/(1+exp(-x))', 'tanh': 'tanh(x)', 'ReLU': 'Piecewise((0,x<0),(x, x>=0))'}\n",
      "Current Weights: None\n",
      "\n"
     ]
    },
    {
     "name": "stderr",
     "output_type": "stream",
     "text": [
      "training: 100%|██████████| 1000/1000 [00:31<00:00, 31.90it/s]\n",
      "Evaluating Test Data: 100%|██████████| 1000/1000 [00:05<00:00, 181.58it/s]\n"
     ]
    },
    {
     "name": "stdout",
     "output_type": "stream",
     "text": [
      "% Correct: 54.5\n",
      "% Wrong: 45.5\n"
     ]
    },
    {
     "data": {
      "image/png": "[encoded data removed]",
      "text/plain": [
       "<Figure size 432x288 with 1 Axes>"
      ]
     },
     "metadata": {
      "needs_background": "light"
     },
     "output_type": "display_data"
    }
   ],
   "source": [
    "nn = NN()\n",
    "print('Avaliable Function Library:', nn.activation_funcs_library)\n",
    "\n",
    "print('Current Weights:', nn.weights)\n",
    "print()\n",
    "\n",
    "################################# Params #################################\n",
    "(x_train, y_train), (x_test, y_test) = mnist.load_data()\n",
    "\n",
    "train_zeros = y_train == 0\n",
    "train_ones = y_train == 1\n",
    "\n",
    "x_train = np.array(list(x_train[train_zeros]) + list(x_train[train_ones]))\n",
    "y_train = np.array(list(y_train[train_zeros]) + list(y_train[train_ones]))\n",
    "\n",
    "x_train = (x_train.astype('float32') / 255.).reshape(len(x_train), len(x_train[0])*len(x_train[0][0]))\n",
    "\n",
    "x_train, y_train = unison_shuffled_copies(x_train, y_train)\n",
    "\n",
    "x_train, y_train = x_train[:1000], One_Hot_Encode(y_train[:1000])\n",
    "\n",
    "input_shape = x_train[0].size\n",
    "output_shape = y_train[0].size\n",
    "\n",
    "layer_sequence = np.array([input_shape, 392, 196, 98, 49, output_shape])\n",
    "\n",
    "################################# Run it ##################################\n",
    "\n",
    "error_list = nn.train(x_train, y_train, layer_sequence, activation_function = 'sigmoid', batch_size = 5, epsilon = 0.01)\n",
    "\n",
    "# print('Current Weights =', nn.weights)\n",
    "\n",
    "plt.plot(error_list)\n",
    "\n",
    "################################# Testing ##################################\n",
    "\n",
    "(x_train, y_train), (x_test, y_test) = mnist.load_data()\n",
    "\n",
    "test_zeros = y_test == 0\n",
    "test_ones = y_test == 1\n",
    "\n",
    "x_test = np.array(list(x_test[test_zeros]) + list(x_test[test_ones]))\n",
    "y_test = np.array(list(y_test[test_zeros]) + list(y_test[test_ones]))\n",
    "\n",
    "x_test = (x_test.astype('float32') / 255.).reshape(len(x_test), len(x_test[0])*len(x_test[0][0]))\n",
    "\n",
    "x_test, y_test = unison_shuffled_copies(x_test, y_test)\n",
    "\n",
    "x_test, y_test = x_test[:1000], One_Hot_Encode(y_test[:1000])\n",
    "\n",
    "nn.evaluate(x_test, y_test)"
   ]
  },
  {
   "cell_type": "code",
   "execution_count": null,
   "id": "40084eaa-a6d9-4b2c-bb9e-cfc599e7221c",
   "metadata": {},
   "outputs": [],
   "source": []
  },
  {
   "cell_type": "markdown",
   "id": "fb39de19-0868-40a5-8475-b70c5bd9518d",
   "metadata": {},
   "source": [
    "# Compare to TensorFlow"
   ]
  },
  {
   "cell_type": "code",
   "execution_count": 32,
   "id": "95dad32f-1cf8-412c-923d-4289dc88085f",
   "metadata": {},
   "outputs": [
    {
     "name": "stdout",
     "output_type": "stream",
     "text": [
      "TensorFlow version: 2.7.0\n"
     ]
    }
   ],
   "source": [
    "import tensorflow as tf\n",
    "print(\"TensorFlow version:\", tf.__version__)"
   ]
  },
  {
   "cell_type": "code",
   "execution_count": 33,
   "id": "2d0f2a7f-493a-4c93-9f58-edf04f8194ea",
   "metadata": {},
   "outputs": [
    {
     "name": "stdout",
     "output_type": "stream",
     "text": [
      "(12665, 28, 28)\n"
     ]
    }
   ],
   "source": [
    "# mnist = tf.keras.datasets.mnist\n",
    "\n",
    "# (x_train, y_train), (x_test, y_test) = mnist.load_data()\n",
    "# x_train, x_test = x_train / 255.0, x_test / 255.0\n",
    "\n",
    "\n",
    "\n",
    "(x_train, y_train), (x_test, y_test) = mnist.load_data()\n",
    "\n",
    "\n",
    "zeros_train = y_train == 0\n",
    "x_train_zeros, y_train_zeros = list(x_train[zeros_train]), list(y_train[zeros_train])\n",
    "zeros_test = y_test == 0\n",
    "x_test_zeros, y_test_zeros = list(x_test[zeros_test]), list(y_test[zeros_test])\n",
    "\n",
    "ones_train = y_train == 1\n",
    "x_train_ones, y_train_ones = list(x_train[ones_train]), list(y_train[ones_train])\n",
    "ones_test = y_test == 1\n",
    "x_test_ones, y_test_ones = list(x_test[ones_test]), list(y_test[ones_test])\n",
    "\n",
    "\n",
    "x_train, y_train = np.array(x_train_zeros + x_train_ones), np.array(y_train_zeros + y_train_ones)\n",
    "x_test, y_test = np.array(x_test_zeros + x_test_ones), np.array(y_test_zeros + y_test_ones)\n",
    "\n",
    "\n",
    "# shuffle arrays\n",
    "\n",
    "x_train, y_train = unison_shuffled_copies(x_train, y_train)\n",
    "x_test, y_test = unison_shuffled_copies(x_test, y_test)\n",
    "\n",
    "x_train = (x_train / 255.)\n",
    "x_test = (x_test / 255.)\n",
    "\n",
    "print(x_train.shape)"
   ]
  },
  {
   "cell_type": "code",
   "execution_count": 34,
   "id": "b63279c3-99c7-4c32-9e29-dc3449fa275e",
   "metadata": {},
   "outputs": [],
   "source": [
    "model = tf.keras.models.Sequential([\n",
    "  tf.keras.layers.Flatten(input_shape=(28, 28)),\n",
    "  tf.keras.layers.Dense(128, activation='sigmoid'),\n",
    "  tf.keras.layers.Dropout(0.2),\n",
    "  tf.keras.layers.Dense(2, activation='sigmoid')\n",
    "])\n",
    "loss_fn = tf.keras.losses.MeanSquaredError()"
   ]
  },
  {
   "cell_type": "code",
   "execution_count": 35,
   "id": "680832a6-11d0-43b6-8257-8ae8ba9d8dda",
   "metadata": {},
   "outputs": [
    {
     "name": "stdout",
     "output_type": "stream",
     "text": [
      "Model: \"sequential\"\n",
      "_________________________________________________________________\n",
      " Layer (type)                Output Shape              Param #   \n",
      "=================================================================\n",
      " flatten (Flatten)           (None, 784)               0         \n",
      "                                                                 \n",
      " dense (Dense)               (None, 128)               100480    \n",
      "                                                                 \n",
      " dropout (Dropout)           (None, 128)               0         \n",
      "                                                                 \n",
      " dense_1 (Dense)             (None, 2)                 258       \n",
      "                                                                 \n",
      "=================================================================\n",
      "Total params: 100,738\n",
      "Trainable params: 100,738\n",
      "Non-trainable params: 0\n",
      "_________________________________________________________________\n"
     ]
    }
   ],
   "source": [
    "model.summary()"
   ]
  },
  {
   "cell_type": "code",
   "execution_count": 36,
   "id": "ba4b8e9f-ffd2-475e-9255-e07fc46c6d79",
   "metadata": {},
   "outputs": [],
   "source": [
    "model.compile(optimizer='SGD',\n",
    "              loss=loss_fn,\n",
    "              metrics=['accuracy'])"
   ]
  },
  {
   "cell_type": "code",
   "execution_count": 37,
   "id": "57296b4d-9b80-4694-bdef-13a4b1c83a5b",
   "metadata": {},
   "outputs": [
    {
     "name": "stdout",
     "output_type": "stream",
     "text": [
      "Epoch 1/5\n",
      "1267/1267 [==============================] - 2s 909us/step - loss: 0.1003 - accuracy: 0.5672\n",
      "Epoch 2/5\n",
      "1267/1267 [==============================] - 1s 864us/step - loss: 0.0241 - accuracy: 0.5571\n",
      "Epoch 3/5\n",
      "1267/1267 [==============================] - 1s 745us/step - loss: 0.0133 - accuracy: 0.5460\n",
      "Epoch 4/5\n",
      "1267/1267 [==============================] - 1s 865us/step - loss: 0.0097 - accuracy: 0.5439\n",
      "Epoch 5/5\n",
      "1267/1267 [==============================] - 1s 741us/step - loss: 0.0077 - accuracy: 0.5416\n"
     ]
    },
    {
     "data": {
      "text/plain": [
       "<keras.callbacks.History at 0x7faf845cbc70>"
      ]
     },
     "execution_count": 37,
     "metadata": {},
     "output_type": "execute_result"
    }
   ],
   "source": [
    "model.fit(x_train, y_train, batch_size= 10, epochs=5)"
   ]
  },
  {
   "cell_type": "code",
   "execution_count": null,
   "id": "14a19e62-8336-4931-a618-3dd7f508edbb",
   "metadata": {},
   "outputs": [],
   "source": []
  },
  {
   "cell_type": "markdown",
   "id": "b3dd41a7-3e6b-446c-a7b9-4a1562600944",
   "metadata": {},
   "source": [
    "# Softmax Developmemnt"
   ]
  },
  {
   "cell_type": "code",
   "execution_count": 39,
   "id": "5c6b8a83-5348-4daa-b64f-a01e1d6c75af",
   "metadata": {},
   "outputs": [
    {
     "data": {
      "text/latex": [
       "$\\displaystyle \\frac{e^{x}}{\\sum_{i=0}^{n} e^{{x}_{i}}}$"
      ],
      "text/plain": [
       "exp(x)/Sum(exp(x[i]), (i, 0, n))"
      ]
     },
     "metadata": {},
     "output_type": "display_data"
    },
    {
     "data": {
      "text/latex": [
       "$\\displaystyle \\frac{e^{x}}{\\sum_{i=0}^{4} e^{{x}_{i}}}$"
      ],
      "text/plain": [
       "exp(x)/Sum(exp(x[i]), (i, 0, 4))"
      ]
     },
     "metadata": {},
     "output_type": "display_data"
    },
    {
     "data": {
      "text/plain": [
       "array([0.2, 0.2, 0.2, 0.2, 0.2])"
      ]
     },
     "execution_count": 39,
     "metadata": {},
     "output_type": "execute_result"
    }
   ],
   "source": [
    "from sympy import Sum, symbols, Indexed, lambdify\n",
    "import numpy as np\n",
    "\n",
    "x, i, n= symbols(\"x i n\")\n",
    "s = exp(x)/Sum(exp(Indexed('x',i)),(i,0,n))\n",
    "\n",
    "display(s)\n",
    "\n",
    "a = np.array([1, 1, 1, 1, 1])\n",
    "\n",
    "s = s.subs(n, len(a) - 1) \n",
    "display(s)\n",
    "\n",
    "\n",
    "f = lambdify(x, s)\n",
    "\n",
    "f(a)"
   ]
  },
  {
   "cell_type": "code",
   "execution_count": 40,
   "id": "5a09100d-e507-4fcf-addd-c75fc61dcdfb",
   "metadata": {},
   "outputs": [
    {
     "data": {
      "text/latex": [
       "$\\displaystyle e^{{x}_{i}} {x}_{i}$"
      ],
      "text/plain": [
       "exp(x[i])*x[i]"
      ]
     },
     "metadata": {},
     "output_type": "display_data"
    },
    {
     "data": {
      "text/latex": [
       "$\\displaystyle e^{{x}_{i}} {x}_{i} + e^{{x}_{i}}$"
      ],
      "text/plain": [
       "exp(x[i])*x[i] + exp(x[i])"
      ]
     },
     "metadata": {},
     "output_type": "display_data"
    },
    {
     "data": {
      "text/latex": [
       "$\\displaystyle e^{{x}_{i}} {x}_{i}$"
      ],
      "text/plain": [
       "exp(x[i])*x[i]"
      ]
     },
     "metadata": {},
     "output_type": "display_data"
    },
    {
     "data": {
      "text/plain": [
       "array([2.71828183, 2.71828183, 2.71828183, 2.71828183, 2.71828183])"
      ]
     },
     "execution_count": 40,
     "metadata": {},
     "output_type": "execute_result"
    }
   ],
   "source": [
    "from sympy import Sum, symbols, Indexed, lambdify\n",
    "import numpy as np\n",
    "\n",
    "x, i, n= symbols(\"x i n\")\n",
    "s = Indexed('x',i)*exp(Indexed('x',i))\n",
    "display(s)\n",
    "display(s.diff(Indexed('x',i)))\n",
    "\n",
    "a = np.array([1, 1, 1, 1, 1])\n",
    "\n",
    "s = s.subs(n, len(a) - 1) \n",
    "display(s)\n",
    "\n",
    "\n",
    "f = lambdify(Indexed('x',i), s)\n",
    "\n",
    "f(a)"
   ]
  },
  {
   "cell_type": "code",
   "execution_count": null,
   "id": "5d7a1409-08a4-42b6-9530-1fbb5583c076",
   "metadata": {},
   "outputs": [],
   "source": []
  },
  {
   "cell_type": "markdown",
   "id": "1ef24714-dc6c-4170-b722-d9c73f9d3973",
   "metadata": {},
   "source": [
    "# MAE Development"
   ]
  },
  {
   "cell_type": "code",
   "execution_count": 41,
   "id": "0638a36d-2351-4520-aca6-b763faab8e2e",
   "metadata": {},
   "outputs": [
    {
     "data": {
      "text/latex": [
       "$\\displaystyle \\sum_{i=0}^{n} \\left({y}_{i} - {y_{hat}}_{i}\\right)^{2}$"
      ],
      "text/plain": [
       "Sum((y[i] - y_hat[i])**2, (i, 0, n))"
      ]
     },
     "metadata": {},
     "output_type": "display_data"
    },
    {
     "data": {
      "text/latex": [
       "$\\displaystyle \\sum_{i=0}^{4} \\left({y}_{i} - {y_{hat}}_{i}\\right)^{2}$"
      ],
      "text/plain": [
       "Sum((y[i] - y_hat[i])**2, (i, 0, 4))"
      ]
     },
     "metadata": {},
     "output_type": "display_data"
    },
    {
     "data": {
      "text/plain": [
       "0"
      ]
     },
     "execution_count": 41,
     "metadata": {},
     "output_type": "execute_result"
    }
   ],
   "source": [
    "y, y_hat, n = symbols('y y_hat n', real=True)\n",
    "\n",
    "func = Sum((Indexed(y,i) - Indexed(y_hat,i))**2,(i,0,n))\n",
    "display(func)\n",
    "\n",
    "a = 2*np.array([1, 1, 1, 1, 1])\n",
    "b = np.array([2, 2, 2, 2, 2])\n",
    "\n",
    "func = func.subs(n, len(a) - 1) \n",
    "display(func)\n",
    "\n",
    "lambdify((y,y_hat), func)(a,b)\n"
   ]
  },
  {
   "cell_type": "code",
   "execution_count": 42,
   "id": "e041bae1-19b8-40b0-bbcf-09ad66df4103",
   "metadata": {},
   "outputs": [
    {
     "data": {
      "text/latex": [
       "$\\displaystyle \\left|{y - y_{hat}}\\right|$"
      ],
      "text/plain": [
       "Abs(y - y_hat)"
      ]
     },
     "metadata": {},
     "output_type": "display_data"
    },
    {
     "data": {
      "text/latex": [
       "$\\displaystyle \\operatorname{sign}{\\left(y - y_{hat} \\right)}$"
      ],
      "text/plain": [
       "sign(y - y_hat)"
      ]
     },
     "metadata": {},
     "output_type": "display_data"
    },
    {
     "data": {
      "text/latex": [
       "$\\displaystyle \\left|{y - y_{hat}}\\right|$"
      ],
      "text/plain": [
       "Abs(y - y_hat)"
      ]
     },
     "metadata": {},
     "output_type": "display_data"
    },
    {
     "data": {
      "text/latex": [
       "$\\displaystyle \\operatorname{sign}{\\left(y - y_{hat} \\right)}$"
      ],
      "text/plain": [
       "sign(y - y_hat)"
      ]
     },
     "metadata": {},
     "output_type": "display_data"
    },
    {
     "data": {
      "text/plain": [
       "5"
      ]
     },
     "execution_count": 42,
     "metadata": {},
     "output_type": "execute_result"
    }
   ],
   "source": [
    "y, y_hat = symbols('y y_hat', real=True)\n",
    "\n",
    "func = abs(y - y_hat)\n",
    "display(func)\n",
    "\n",
    "diff = func.diff(y)\n",
    "display(diff)\n",
    "\n",
    "a = np.array([1, 1, 1, 1, 1])\n",
    "b = np.array([2, 2, 2, 2, 2])\n",
    "\n",
    "sum(lambdify((y,y_hat), func)(a,b))\n",
    "\n",
    "########################\n",
    "\n",
    "func = eval('abs(y - y_hat)')\n",
    "display(func)\n",
    "\n",
    "diff = func.diff(y)\n",
    "display(diff)\n",
    "\n",
    "a = np.array([1, 1, 1, 1, 1])\n",
    "b = np.array([2, 2, 2, 2, 2])\n",
    "\n",
    "sum(lambdify((y,y_hat), func)(a,b))"
   ]
  },
  {
   "cell_type": "code",
   "execution_count": 43,
   "id": "506dd256-9e83-4571-96a2-c2ee2bbd0210",
   "metadata": {},
   "outputs": [],
   "source": [
    "def load_func_library(func_file):\n",
    "    \n",
    "    ''' \n",
    "    ##################################################################\n",
    "            Load in the list of defined activation functions\n",
    "    ##################################################################\n",
    "    \n",
    "    INPUTS:\n",
    "    - func_file (string) : the filename containing the library of usable activation functions\n",
    "    \n",
    "    OUTPUTS:\n",
    "    - func_library (dict) : a dictionary of the usable activation functions\n",
    "    \n",
    "    ##################### Example ######################\n",
    "    \n",
    "    func_file = 'func_library_modified.txt'\n",
    "    load_func_library(func_file)\n",
    "        \n",
    "    '''\n",
    "    \n",
    "    if os.path.isfile(func_file): \n",
    "        with open(func_file) as f:\n",
    "            data = f.read()\n",
    "    else:\n",
    "        raise Exception('Function file \"%s\" doesn\\'t exist!' % func_file)\n",
    "    \n",
    "    # reconstructing the data as a dictionary\n",
    "    func_library = json.loads(data)\n",
    "    return func_library\n",
    "\n",
    "##########################################################################################\n",
    "\n",
    "def init_func(func_library, func):\n",
    "    \n",
    "    ''' \n",
    "    ##################################################################\n",
    "                    Initialize an activation function\n",
    "    ##################################################################\n",
    "    \n",
    "    INPUTS:\n",
    "    - func_library (dict) : a dictionary of the usable activation functions\n",
    "    - func (string) : the mathematical expression corresponding to 'func_name' (e.g., '1/(1+exp(-x))')\n",
    "    \n",
    "    OUTPUTS:\n",
    "    - expression (sympy.core.symbol.Symbol) : symbolic mathematical representation of 'func'\n",
    "    \n",
    "    ##################### Example ######################\n",
    "    \n",
    "    func_file = 'func_library_modified.txt'\n",
    "    func_library = load_func_library(func_file)\n",
    "    func = init_func(func_library, 'sigmoid')\n",
    "    display(func)\n",
    "        \n",
    "    '''\n",
    "    \n",
    "    try:\n",
    "        expression = func_library[func]\n",
    "        expression = eval(expression)\n",
    "        return expression\n",
    "    except:\n",
    "        raise Exception(\"Desired function '%s' does not exist within the 'func_library.'\" % func)\n",
    "\n"
   ]
  },
  {
   "cell_type": "code",
   "execution_count": 44,
   "id": "a7a3a8b4-1ac2-4e80-b0c9-185cd3a16956",
   "metadata": {},
   "outputs": [
    {
     "ename": "NameError",
     "evalue": "name 'eval_loss_func' is not defined",
     "output_type": "error",
     "traceback": [
      "\u001b[0;31m---------------------------------------------------------------------------\u001b[0m",
      "\u001b[0;31mNameError\u001b[0m                                 Traceback (most recent call last)",
      "\u001b[0;32m<ipython-input-44-e451d0ffd48e>\u001b[0m in \u001b[0;36m<module>\u001b[0;34m\u001b[0m\n\u001b[1;32m      1\u001b[0m \u001b[0mfunc_file\u001b[0m \u001b[0;34m=\u001b[0m \u001b[0;34m'loss_funcs_library.txt'\u001b[0m\u001b[0;34m\u001b[0m\u001b[0;34m\u001b[0m\u001b[0m\n\u001b[1;32m      2\u001b[0m \u001b[0mexpression\u001b[0m \u001b[0;34m=\u001b[0m \u001b[0minit_func\u001b[0m\u001b[0;34m(\u001b[0m\u001b[0mload_func_library\u001b[0m\u001b[0;34m(\u001b[0m\u001b[0mfunc_file\u001b[0m\u001b[0;34m)\u001b[0m\u001b[0;34m,\u001b[0m\u001b[0;34m'MSE'\u001b[0m\u001b[0;34m)\u001b[0m\u001b[0;34m\u001b[0m\u001b[0;34m\u001b[0m\u001b[0m\n\u001b[0;32m----> 3\u001b[0;31m \u001b[0meval_loss_func\u001b[0m\u001b[0;34m(\u001b[0m\u001b[0mexpression\u001b[0m\u001b[0;34m,\u001b[0m \u001b[0mnp\u001b[0m\u001b[0;34m.\u001b[0m\u001b[0marray\u001b[0m\u001b[0;34m(\u001b[0m\u001b[0;34m[\u001b[0m\u001b[0;36m1\u001b[0m\u001b[0;34m,\u001b[0m\u001b[0;36m1\u001b[0m\u001b[0;34m,\u001b[0m\u001b[0;36m8\u001b[0m\u001b[0;34m]\u001b[0m\u001b[0;34m)\u001b[0m\u001b[0;34m,\u001b[0m\u001b[0mnp\u001b[0m\u001b[0;34m.\u001b[0m\u001b[0marray\u001b[0m\u001b[0;34m(\u001b[0m\u001b[0;34m[\u001b[0m\u001b[0;36m2\u001b[0m\u001b[0;34m,\u001b[0m\u001b[0;36m3\u001b[0m\u001b[0;34m,\u001b[0m\u001b[0;36m0\u001b[0m\u001b[0;34m]\u001b[0m\u001b[0;34m)\u001b[0m\u001b[0;34m,\u001b[0m \u001b[0mdiff\u001b[0m \u001b[0;34m=\u001b[0m \u001b[0;32mTrue\u001b[0m\u001b[0;34m)\u001b[0m\u001b[0;34m\u001b[0m\u001b[0;34m\u001b[0m\u001b[0m\n\u001b[0m",
      "\u001b[0;31mNameError\u001b[0m: name 'eval_loss_func' is not defined"
     ]
    }
   ],
   "source": [
    "func_file = 'loss_funcs_library.txt'\n",
    "expression = init_func(load_func_library(func_file),'MSE')\n",
    "eval_loss_func(expression, np.array([1,1,8]),np.array([2,3,0]), diff = True)"
   ]
  },
  {
   "cell_type": "code",
   "execution_count": null,
   "id": "fcaed234-3249-4f67-a1b8-c796ed35da64",
   "metadata": {},
   "outputs": [],
   "source": []
  }
 ],
 "metadata": {
  "kernelspec": {
   "display_name": "Python 3",
   "language": "python",
   "name": "python3"
  },
  "language_info": {
   "codemirror_mode": {
    "name": "ipython",
    "version": 3
   },
   "file_extension": ".py",
   "mimetype": "text/x-python",
   "name": "python",
   "nbconvert_exporter": "python",
   "pygments_lexer": "ipython3",
   "version": "3.8.5"
  }
 },
 "nbformat": 4,
 "nbformat_minor": 5
}
